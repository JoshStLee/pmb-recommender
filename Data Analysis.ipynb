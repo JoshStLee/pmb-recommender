{
 "cells": [
  {
   "cell_type": "code",
   "execution_count": 2,
   "id": "c8ca8a67-a47e-4a5c-936f-8ac8b4226716",
   "metadata": {},
   "outputs": [],
   "source": [
    "import os\n",
    "import sys\n",
    "import pandas as pd\n",
    "import numpy as np\n",
    "import nltk\n",
    "from sklearn import tree\n",
    "from IPython.display import display"
   ]
  },
  {
   "cell_type": "code",
   "execution_count": 7,
   "id": "faafcf4c-74cf-41ad-a598-336a4ffcc9ba",
   "metadata": {},
   "outputs": [],
   "source": [
    "data = pd.read_csv('dataset.csv')"
   ]
  },
  {
   "cell_type": "markdown",
   "id": "18800c14-1c53-47e7-b300-7dfd3647967e",
   "metadata": {},
   "source": [
    "### Analisis Dataset Keseluruhan"
   ]
  },
  {
   "cell_type": "code",
   "execution_count": 6,
   "id": "653c35bf-a745-451f-a42a-555175310af4",
   "metadata": {},
   "outputs": [
    {
     "name": "stdout",
     "output_type": "stream",
     "text": [
      "<class 'pandas.core.frame.DataFrame'>\n",
      "RangeIndex: 2644 entries, 0 to 2643\n",
      "Data columns (total 14 columns):\n",
      " #   Column              Non-Null Count  Dtype  \n",
      "---  ------              --------------  -----  \n",
      " 0   lokasi              2644 non-null   int64  \n",
      " 1   status              2644 non-null   int64  \n",
      " 2   tipe                2644 non-null   int64  \n",
      " 3   id_daftar_sekolah   2644 non-null   int64  \n",
      " 4   id_prodi_pilihan_1  2644 non-null   int64  \n",
      " 5   id_prodi_pilihan_2  2644 non-null   int64  \n",
      " 6   nilai_tpa_verbal    2644 non-null   int64  \n",
      " 7   nilai_tpa_spasial   2644 non-null   int64  \n",
      " 8   nilai_tpa_analogi   2644 non-null   int64  \n",
      " 9   nilai_tpa_numerik   2644 non-null   int64  \n",
      " 10  avg_nilai_uan       1904 non-null   float64\n",
      " 11  avg_nilai_raport    573 non-null    float64\n",
      " 12  is_lolos_seleksi    2644 non-null   int64  \n",
      " 13  id_prodi_diterima   2644 non-null   int64  \n",
      "dtypes: float64(2), int64(12)\n",
      "memory usage: 289.3 KB\n"
     ]
    }
   ],
   "source": [
    "data.info()"
   ]
  },
  {
   "cell_type": "code",
   "execution_count": 7,
   "id": "a8834917-5c53-4cf1-9e67-3582a18570c4",
   "metadata": {},
   "outputs": [],
   "source": [
    "col_names = data.columns.values.tolist()"
   ]
  },
  {
   "cell_type": "code",
   "execution_count": 9,
   "id": "8db0d2ec-2567-40cd-92dc-b8da75404072",
   "metadata": {},
   "outputs": [
    {
     "name": "stdout",
     "output_type": "stream",
     "text": [
      "0    1501\n",
      "1    1143\n",
      "Name: lokasi, dtype: int64\n",
      "1    1347\n",
      "0    1297\n",
      "Name: status, dtype: int64\n",
      "1    2333\n",
      "0     311\n",
      "Name: tipe, dtype: int64\n",
      "7       101\n",
      "26       42\n",
      "8        40\n",
      "35       37\n",
      "16       35\n",
      "       ... \n",
      "2399      1\n",
      "2400      1\n",
      "1217      1\n",
      "1194      1\n",
      "2176      1\n",
      "Name: id_daftar_sekolah, Length: 1097, dtype: int64\n",
      "9     1753\n",
      "7      249\n",
      "10     192\n",
      "6      136\n",
      "3      123\n",
      "5       77\n",
      "4       69\n",
      "2       18\n",
      "8       17\n",
      "11      10\n",
      "Name: id_prodi_pilihan_1, dtype: int64\n",
      "9     892\n",
      "10    732\n",
      "1     578\n",
      "3     167\n",
      "4      99\n",
      "7      95\n",
      "8      35\n",
      "5      28\n",
      "11     13\n",
      "6       5\n",
      "Name: id_prodi_pilihan_2, dtype: int64\n",
      "0      1624\n",
      "10      268\n",
      "20      118\n",
      "100      88\n",
      "30       84\n",
      "60       83\n",
      "40       70\n",
      "80       67\n",
      "130      63\n",
      "150      48\n",
      "170      28\n",
      "90       26\n",
      "180      22\n",
      "120      17\n",
      "70       14\n",
      "160       8\n",
      "50        7\n",
      "190       4\n",
      "140       3\n",
      "110       2\n",
      "Name: nilai_tpa_verbal, dtype: int64\n",
      "0      1624\n",
      "10      113\n",
      "60      111\n",
      "20       86\n",
      "30       83\n",
      "90       78\n",
      "100      69\n",
      "80       62\n",
      "70       57\n",
      "50       54\n",
      "110      53\n",
      "130      47\n",
      "120      39\n",
      "40       38\n",
      "140      37\n",
      "160      30\n",
      "150      22\n",
      "180      20\n",
      "170      17\n",
      "190       4\n",
      "Name: nilai_tpa_spasial, dtype: int64\n",
      "0      1625\n",
      "90      133\n",
      "10      131\n",
      "60      123\n",
      "40      120\n",
      "20      112\n",
      "30      110\n",
      "120     107\n",
      "150      66\n",
      "70       37\n",
      "170      37\n",
      "50       13\n",
      "180       8\n",
      "80        8\n",
      "100       6\n",
      "190       3\n",
      "140       2\n",
      "110       2\n",
      "130       1\n",
      "Name: nilai_tpa_analogi, dtype: int64\n",
      "0      1624\n",
      "10      197\n",
      "40      110\n",
      "20      104\n",
      "70       84\n",
      "50       66\n",
      "30       60\n",
      "60       46\n",
      "180      39\n",
      "80       39\n",
      "120      35\n",
      "110      34\n",
      "100      34\n",
      "150      30\n",
      "130      29\n",
      "140      27\n",
      "160      26\n",
      "170      26\n",
      "90       25\n",
      "190       9\n",
      "Name: nilai_tpa_numerik, dtype: int64\n",
      "0.0      1523\n",
      "63.0       10\n",
      "81.0       10\n",
      "54.0        9\n",
      "28.0        9\n",
      "         ... \n",
      "421.0       1\n",
      "639.0       1\n",
      "224.0       1\n",
      "181.0       1\n",
      "96.0        1\n",
      "Name: avg_nilai_uan, Length: 117, dtype: int64\n",
      "0.0     175\n",
      "83.0     37\n",
      "81.0     35\n",
      "80.0     34\n",
      "77.0     29\n",
      "79.0     27\n",
      "82.0     27\n",
      "85.0     27\n",
      "78.0     26\n",
      "75.0     24\n",
      "76.0     20\n",
      "84.0     19\n",
      "88.0     14\n",
      "86.0     12\n",
      "87.0     11\n",
      "74.0     10\n",
      "73.0      9\n",
      "89.0      7\n",
      "70.0      5\n",
      "90.0      3\n",
      "91.0      3\n",
      "72.0      3\n",
      "92.0      3\n",
      "69.0      2\n",
      "71.0      2\n",
      "68.0      1\n",
      "65.0      1\n",
      "93.0      1\n",
      "61.0      1\n",
      "22.0      1\n",
      "47.0      1\n",
      "17.0      1\n",
      "94.0      1\n",
      "52.0      1\n",
      "Name: avg_nilai_raport, dtype: int64\n",
      "1    2330\n",
      "0     314\n",
      "Name: is_lolos_seleksi, dtype: int64\n",
      "9     1384\n",
      "1      441\n",
      "10     291\n",
      "7      157\n",
      "3      148\n",
      "5       77\n",
      "4       75\n",
      "6       30\n",
      "8       24\n",
      "11      11\n",
      "2        6\n",
      "Name: id_prodi_diterima, dtype: int64\n"
     ]
    }
   ],
   "source": [
    "for col in col_names:\n",
    "    \n",
    "    print(data[col].value_counts())  "
   ]
  },
  {
   "cell_type": "code",
   "execution_count": 10,
   "id": "a10218a9-61b9-4667-93e7-0906fa98ba6c",
   "metadata": {},
   "outputs": [
    {
     "data": {
      "text/plain": [
       "1    2330\n",
       "0     314\n",
       "Name: is_lolos_seleksi, dtype: int64"
      ]
     },
     "execution_count": 10,
     "metadata": {},
     "output_type": "execute_result"
    }
   ],
   "source": [
    "data['is_lolos_seleksi'].value_counts()"
   ]
  },
  {
   "cell_type": "code",
   "execution_count": 8,
   "id": "5c19155c-af3e-4bde-b9f8-c8b56c8e256e",
   "metadata": {},
   "outputs": [
    {
     "data": {
      "text/plain": [
       "9     1384\n",
       "1      441\n",
       "10     291\n",
       "7      157\n",
       "3      148\n",
       "5       77\n",
       "4       75\n",
       "6       30\n",
       "8       24\n",
       "11      11\n",
       "2        6\n",
       "Name: id_prodi_diterima, dtype: int64"
      ]
     },
     "execution_count": 8,
     "metadata": {},
     "output_type": "execute_result"
    }
   ],
   "source": [
    "data['id_prodi_diterima'].value_counts()"
   ]
  },
  {
   "cell_type": "code",
   "execution_count": 11,
   "id": "710ea6dc-46d4-415a-9125-2c1e59bc898f",
   "metadata": {},
   "outputs": [
    {
     "data": {
      "text/plain": [
       "lokasi                   0\n",
       "status                   0\n",
       "tipe                     0\n",
       "id_daftar_sekolah        0\n",
       "id_prodi_pilihan_1       0\n",
       "id_prodi_pilihan_2       0\n",
       "nilai_tpa_verbal         0\n",
       "nilai_tpa_spasial        0\n",
       "nilai_tpa_analogi        0\n",
       "nilai_tpa_numerik        0\n",
       "avg_nilai_uan          740\n",
       "avg_nilai_raport      2071\n",
       "is_lolos_seleksi         0\n",
       "id_prodi_diterima        0\n",
       "dtype: int64"
      ]
     },
     "execution_count": 11,
     "metadata": {},
     "output_type": "execute_result"
    }
   ],
   "source": [
    "data.isnull().sum()"
   ]
  },
  {
   "cell_type": "markdown",
   "id": "72f3f843-8ade-425f-937d-487681e19465",
   "metadata": {},
   "source": [
    "### Analisis Data Jalur Prestasi"
   ]
  },
  {
   "cell_type": "code",
   "execution_count": 3,
   "id": "66f6538b-d7de-49da-a7b5-ce393a219222",
   "metadata": {},
   "outputs": [],
   "source": [
    "jp = pd.read_csv('data_jp.csv')"
   ]
  },
  {
   "cell_type": "code",
   "execution_count": 4,
   "id": "43ea42f2-e5e6-4abc-93d7-28beffd89ef3",
   "metadata": {},
   "outputs": [
    {
     "name": "stdout",
     "output_type": "stream",
     "text": [
      "<class 'pandas.core.frame.DataFrame'>\n",
      "RangeIndex: 1624 entries, 0 to 1623\n",
      "Data columns (total 10 columns):\n",
      " #   Column              Non-Null Count  Dtype  \n",
      "---  ------              --------------  -----  \n",
      " 0   lokasi              1624 non-null   int64  \n",
      " 1   status              1624 non-null   int64  \n",
      " 2   tipe                1624 non-null   int64  \n",
      " 3   id_daftar_sekolah   1624 non-null   int64  \n",
      " 4   id_prodi_pilihan_1  1624 non-null   int64  \n",
      " 5   id_prodi_pilihan_2  1624 non-null   int64  \n",
      " 6   avg_nilai_uan       1228 non-null   float64\n",
      " 7   avg_nilai_raport    573 non-null    float64\n",
      " 8   is_lolos_seleksi    1624 non-null   int64  \n",
      " 9   id_prodi_diterima   1624 non-null   int64  \n",
      "dtypes: float64(2), int64(8)\n",
      "memory usage: 127.0 KB\n"
     ]
    }
   ],
   "source": [
    "jp.info()"
   ]
  },
  {
   "cell_type": "code",
   "execution_count": 5,
   "id": "b347c24f-07ae-4253-9069-8fbeaf8c0fb4",
   "metadata": {},
   "outputs": [
    {
     "name": "stdout",
     "output_type": "stream",
     "text": [
      "0    817\n",
      "1    807\n",
      "Name: lokasi, dtype: int64\n",
      "0    845\n",
      "1    779\n",
      "Name: status, dtype: int64\n",
      "1    1452\n",
      "0     172\n",
      "Name: tipe, dtype: int64\n",
      "7       81\n",
      "26      37\n",
      "8       33\n",
      "35      32\n",
      "20      28\n",
      "        ..\n",
      "1300     1\n",
      "479      1\n",
      "1247     1\n",
      "673      1\n",
      "2176     1\n",
      "Name: id_daftar_sekolah, Length: 748, dtype: int64\n",
      "9     1167\n",
      "10     124\n",
      "7      121\n",
      "3       55\n",
      "5       51\n",
      "4       41\n",
      "6       37\n",
      "8       15\n",
      "11       7\n",
      "2        6\n",
      "Name: id_prodi_pilihan_1, dtype: int64\n",
      "9     458\n",
      "1     446\n",
      "10    438\n",
      "3      94\n",
      "4      63\n",
      "7      59\n",
      "8      27\n",
      "5      22\n",
      "11     12\n",
      "6       5\n",
      "Name: id_prodi_pilihan_2, dtype: int64\n",
      "0.0      1028\n",
      "81.0        9\n",
      "63.0        7\n",
      "68.0        6\n",
      "83.0        6\n",
      "         ... \n",
      "187.0       1\n",
      "72.0        1\n",
      "42.0        1\n",
      "254.0       1\n",
      "45.0        1\n",
      "Name: avg_nilai_uan, Length: 83, dtype: int64\n",
      "0.0     175\n",
      "83.0     37\n",
      "81.0     35\n",
      "80.0     34\n",
      "77.0     29\n",
      "79.0     27\n",
      "82.0     27\n",
      "85.0     27\n",
      "78.0     26\n",
      "75.0     24\n",
      "76.0     20\n",
      "84.0     19\n",
      "88.0     14\n",
      "86.0     12\n",
      "87.0     11\n",
      "74.0     10\n",
      "73.0      9\n",
      "89.0      7\n",
      "70.0      5\n",
      "90.0      3\n",
      "91.0      3\n",
      "72.0      3\n",
      "92.0      3\n",
      "69.0      2\n",
      "71.0      2\n",
      "68.0      1\n",
      "65.0      1\n",
      "93.0      1\n",
      "61.0      1\n",
      "22.0      1\n",
      "47.0      1\n",
      "17.0      1\n",
      "94.0      1\n",
      "52.0      1\n",
      "Name: avg_nilai_raport, dtype: int64\n",
      "1    1466\n",
      "0     158\n",
      "Name: is_lolos_seleksi, dtype: int64\n",
      "9     971\n",
      "1     233\n",
      "10    151\n",
      "7      80\n",
      "3      63\n",
      "5      51\n",
      "4      39\n",
      "8      20\n",
      "6       8\n",
      "11      6\n",
      "2       2\n",
      "Name: id_prodi_diterima, dtype: int64\n"
     ]
    }
   ],
   "source": [
    "col_names = jp.columns.values.tolist()\n",
    "for col in col_names:\n",
    "    \n",
    "    print(jp[col].value_counts()) "
   ]
  },
  {
   "cell_type": "code",
   "execution_count": 6,
   "id": "cc14732e-427d-4a55-9b09-dc7b3956082e",
   "metadata": {},
   "outputs": [
    {
     "data": {
      "text/plain": [
       "1    1466\n",
       "0     158\n",
       "Name: is_lolos_seleksi, dtype: int64"
      ]
     },
     "execution_count": 6,
     "metadata": {},
     "output_type": "execute_result"
    }
   ],
   "source": [
    "jp['is_lolos_seleksi'].value_counts()"
   ]
  },
  {
   "cell_type": "code",
   "execution_count": 9,
   "id": "87a16d8d-6676-4f80-80af-da4b4e74d48a",
   "metadata": {},
   "outputs": [
    {
     "data": {
      "text/plain": [
       "9     971\n",
       "1     233\n",
       "10    151\n",
       "7      80\n",
       "3      63\n",
       "5      51\n",
       "4      39\n",
       "8      20\n",
       "6       8\n",
       "11      6\n",
       "2       2\n",
       "Name: id_prodi_diterima, dtype: int64"
      ]
     },
     "execution_count": 9,
     "metadata": {},
     "output_type": "execute_result"
    }
   ],
   "source": [
    "jp['id_prodi_diterima'].value_counts()"
   ]
  },
  {
   "cell_type": "code",
   "execution_count": 10,
   "id": "f5d687e5-1210-4878-84e2-99d37df634d8",
   "metadata": {},
   "outputs": [
    {
     "data": {
      "text/plain": [
       "lokasi                   0\n",
       "status                   0\n",
       "tipe                     0\n",
       "id_daftar_sekolah        0\n",
       "id_prodi_pilihan_1       0\n",
       "id_prodi_pilihan_2       0\n",
       "avg_nilai_uan          396\n",
       "avg_nilai_raport      1051\n",
       "is_lolos_seleksi         0\n",
       "id_prodi_diterima        0\n",
       "dtype: int64"
      ]
     },
     "execution_count": 10,
     "metadata": {},
     "output_type": "execute_result"
    }
   ],
   "source": [
    "jp.isnull().sum()"
   ]
  },
  {
   "cell_type": "markdown",
   "id": "13b0f5e2-4f07-41db-80ed-e3af5692e637",
   "metadata": {},
   "source": [
    "### Analisis Data Jalur Reguler"
   ]
  },
  {
   "cell_type": "code",
   "execution_count": 11,
   "id": "b11be668-caff-42c3-bca6-be0e3a1ed140",
   "metadata": {},
   "outputs": [],
   "source": [
    "njp = pd.read_csv('data_njp.csv')"
   ]
  },
  {
   "cell_type": "code",
   "execution_count": 13,
   "id": "24eb7aaf-2693-4c93-b8b5-28dfa9664e80",
   "metadata": {},
   "outputs": [
    {
     "name": "stdout",
     "output_type": "stream",
     "text": [
      "<class 'pandas.core.frame.DataFrame'>\n",
      "RangeIndex: 1020 entries, 0 to 1019\n",
      "Data columns (total 12 columns):\n",
      " #   Column              Non-Null Count  Dtype\n",
      "---  ------              --------------  -----\n",
      " 0   lokasi              1020 non-null   int64\n",
      " 1   status              1020 non-null   int64\n",
      " 2   tipe                1020 non-null   int64\n",
      " 3   id_daftar_sekolah   1020 non-null   int64\n",
      " 4   id_prodi_pilihan_1  1020 non-null   int64\n",
      " 5   id_prodi_pilihan_2  1020 non-null   int64\n",
      " 6   nilai_tpa_verbal    1020 non-null   int64\n",
      " 7   nilai_tpa_spasial   1020 non-null   int64\n",
      " 8   nilai_tpa_analogi   1020 non-null   int64\n",
      " 9   nilai_tpa_numerik   1020 non-null   int64\n",
      " 10  is_lolos_seleksi    1020 non-null   int64\n",
      " 11  id_prodi_diterima   1020 non-null   int64\n",
      "dtypes: int64(12)\n",
      "memory usage: 95.8 KB\n"
     ]
    }
   ],
   "source": [
    "njp.info()"
   ]
  },
  {
   "cell_type": "code",
   "execution_count": 14,
   "id": "4c6b37e8-1c9c-4b6e-8749-572b359c9a26",
   "metadata": {},
   "outputs": [
    {
     "name": "stdout",
     "output_type": "stream",
     "text": [
      "0    684\n",
      "1    336\n",
      "Name: lokasi, dtype: int64\n",
      "1    568\n",
      "0    452\n",
      "Name: status, dtype: int64\n",
      "1    881\n",
      "0    139\n",
      "Name: tipe, dtype: int64\n",
      "7       20\n",
      "0       16\n",
      "2213    13\n",
      "144     11\n",
      "16      11\n",
      "        ..\n",
      "304      1\n",
      "2323     1\n",
      "2321     1\n",
      "737      1\n",
      "1991     1\n",
      "Name: id_daftar_sekolah, Length: 597, dtype: int64\n",
      "9     586\n",
      "7     128\n",
      "6      99\n",
      "10     68\n",
      "3      68\n",
      "4      28\n",
      "5      26\n",
      "2      12\n",
      "11      3\n",
      "8       2\n",
      "Name: id_prodi_pilihan_1, dtype: int64\n",
      "9     434\n",
      "10    294\n",
      "1     132\n",
      "3      73\n",
      "7      36\n",
      "4      36\n",
      "8       8\n",
      "5       6\n",
      "11      1\n",
      "Name: id_prodi_pilihan_2, dtype: int64\n",
      "10     268\n",
      "20     118\n",
      "100     88\n",
      "30      84\n",
      "60      83\n",
      "40      70\n",
      "80      67\n",
      "130     63\n",
      "150     48\n",
      "170     28\n",
      "90      26\n",
      "180     22\n",
      "120     17\n",
      "70      14\n",
      "160      8\n",
      "50       7\n",
      "190      4\n",
      "140      3\n",
      "110      2\n",
      "Name: nilai_tpa_verbal, dtype: int64\n",
      "10     113\n",
      "60     111\n",
      "20      86\n",
      "30      83\n",
      "90      78\n",
      "100     69\n",
      "80      62\n",
      "70      57\n",
      "50      54\n",
      "110     53\n",
      "130     47\n",
      "120     39\n",
      "40      38\n",
      "140     37\n",
      "160     30\n",
      "150     22\n",
      "180     20\n",
      "170     17\n",
      "190      4\n",
      "Name: nilai_tpa_spasial, dtype: int64\n",
      "90     133\n",
      "10     131\n",
      "60     123\n",
      "40     120\n",
      "20     112\n",
      "30     110\n",
      "120    107\n",
      "150     66\n",
      "70      37\n",
      "170     37\n",
      "50      13\n",
      "180      8\n",
      "80       8\n",
      "100      6\n",
      "190      3\n",
      "140      2\n",
      "110      2\n",
      "130      1\n",
      "0        1\n",
      "Name: nilai_tpa_analogi, dtype: int64\n",
      "10     197\n",
      "40     110\n",
      "20     104\n",
      "70      84\n",
      "50      66\n",
      "30      60\n",
      "60      46\n",
      "80      39\n",
      "180     39\n",
      "120     35\n",
      "100     34\n",
      "110     34\n",
      "150     30\n",
      "130     29\n",
      "140     27\n",
      "160     26\n",
      "170     26\n",
      "90      25\n",
      "190      9\n",
      "Name: nilai_tpa_numerik, dtype: int64\n",
      "1    864\n",
      "0    156\n",
      "Name: is_lolos_seleksi, dtype: int64\n",
      "9     413\n",
      "1     208\n",
      "10    140\n",
      "3      85\n",
      "7      77\n",
      "4      36\n",
      "5      26\n",
      "6      22\n",
      "11      5\n",
      "8       4\n",
      "2       4\n",
      "Name: id_prodi_diterima, dtype: int64\n"
     ]
    }
   ],
   "source": [
    "col_names = njp.columns.values.tolist()\n",
    "for col in col_names:\n",
    "    \n",
    "    print(njp[col].value_counts()) "
   ]
  },
  {
   "cell_type": "code",
   "execution_count": 15,
   "id": "54c56960-7ed8-40ed-a570-34bb1e3c8d6e",
   "metadata": {},
   "outputs": [
    {
     "data": {
      "text/plain": [
       "1    864\n",
       "0    156\n",
       "Name: is_lolos_seleksi, dtype: int64"
      ]
     },
     "execution_count": 15,
     "metadata": {},
     "output_type": "execute_result"
    }
   ],
   "source": [
    "njp['is_lolos_seleksi'].value_counts()"
   ]
  },
  {
   "cell_type": "code",
   "execution_count": 16,
   "id": "ca671128-9382-442e-ac1a-086a12163bd8",
   "metadata": {},
   "outputs": [
    {
     "data": {
      "text/plain": [
       "9     413\n",
       "1     208\n",
       "10    140\n",
       "3      85\n",
       "7      77\n",
       "4      36\n",
       "5      26\n",
       "6      22\n",
       "11      5\n",
       "8       4\n",
       "2       4\n",
       "Name: id_prodi_diterima, dtype: int64"
      ]
     },
     "execution_count": 16,
     "metadata": {},
     "output_type": "execute_result"
    }
   ],
   "source": [
    "njp['id_prodi_diterima'].value_counts()"
   ]
  },
  {
   "cell_type": "code",
   "execution_count": 17,
   "id": "96f80c06-5cf4-45a4-983c-9a746c95bac6",
   "metadata": {},
   "outputs": [
    {
     "data": {
      "text/plain": [
       "lokasi                0\n",
       "status                0\n",
       "tipe                  0\n",
       "id_daftar_sekolah     0\n",
       "id_prodi_pilihan_1    0\n",
       "id_prodi_pilihan_2    0\n",
       "nilai_tpa_verbal      0\n",
       "nilai_tpa_spasial     0\n",
       "nilai_tpa_analogi     0\n",
       "nilai_tpa_numerik     0\n",
       "is_lolos_seleksi      0\n",
       "id_prodi_diterima     0\n",
       "dtype: int64"
      ]
     },
     "execution_count": 17,
     "metadata": {},
     "output_type": "execute_result"
    }
   ],
   "source": [
    "njp.isnull().sum()"
   ]
  },
  {
   "cell_type": "code",
   "execution_count": null,
   "id": "0573f747-9637-4320-be64-95b9c69bda9c",
   "metadata": {},
   "outputs": [],
   "source": []
  }
 ],
 "metadata": {
  "kernelspec": {
   "display_name": "Python 3 (ipykernel)",
   "language": "python",
   "name": "python3"
  },
  "language_info": {
   "codemirror_mode": {
    "name": "ipython",
    "version": 3
   },
   "file_extension": ".py",
   "mimetype": "text/x-python",
   "name": "python",
   "nbconvert_exporter": "python",
   "pygments_lexer": "ipython3",
   "version": "3.9.12"
  }
 },
 "nbformat": 4,
 "nbformat_minor": 5
}
