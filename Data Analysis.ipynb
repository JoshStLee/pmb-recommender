{
 "cells": [
  {
   "cell_type": "code",
   "execution_count": 40,
   "id": "c8ca8a67-a47e-4a5c-936f-8ac8b4226716",
   "metadata": {},
   "outputs": [],
   "source": [
    "import os\n",
    "import sys\n",
    "import pandas as pd\n",
    "import numpy as np\n",
    "import nltk\n",
    "from sklearn import tree\n",
    "from IPython.display import display"
   ]
  },
  {
   "cell_type": "code",
   "execution_count": 41,
   "id": "faafcf4c-74cf-41ad-a598-336a4ffcc9ba",
   "metadata": {},
   "outputs": [],
   "source": [
    "data = pd.read_csv('dataset.csv')"
   ]
  },
  {
   "cell_type": "markdown",
   "id": "18800c14-1c53-47e7-b300-7dfd3647967e",
   "metadata": {
    "jp-MarkdownHeadingCollapsed": true,
    "tags": []
   },
   "source": [
    "### Analisis Dataset Keseluruhan"
   ]
  },
  {
   "cell_type": "code",
   "execution_count": 69,
   "id": "653c35bf-a745-451f-a42a-555175310af4",
   "metadata": {},
   "outputs": [
    {
     "name": "stdout",
     "output_type": "stream",
     "text": [
      "<class 'pandas.core.frame.DataFrame'>\n",
      "RangeIndex: 2644 entries, 0 to 2643\n",
      "Data columns (total 13 columns):\n",
      " #   Column              Non-Null Count  Dtype  \n",
      "---  ------              --------------  -----  \n",
      " 0   lokasi              2644 non-null   int64  \n",
      " 1   status              2644 non-null   int64  \n",
      " 2   tipe                2644 non-null   int64  \n",
      " 3   id_daftar_sekolah   2644 non-null   int64  \n",
      " 4   id_prodi_pilihan_1  2644 non-null   int64  \n",
      " 5   id_prodi_pilihan_2  2644 non-null   int64  \n",
      " 6   nilai_tpa_verbal    2644 non-null   int64  \n",
      " 7   nilai_tpa_spasial   2644 non-null   int64  \n",
      " 8   nilai_tpa_analogi   2644 non-null   int64  \n",
      " 9   nilai_tpa_numerik   2644 non-null   int64  \n",
      " 10  avg_nilai_uan       1904 non-null   float64\n",
      " 11  avg_nilai_raport    573 non-null    float64\n",
      " 12  is_diterima         2644 non-null   int64  \n",
      "dtypes: float64(2), int64(11)\n",
      "memory usage: 268.7 KB\n"
     ]
    }
   ],
   "source": [
    "data.info()"
   ]
  },
  {
   "cell_type": "code",
   "execution_count": 70,
   "id": "a8834917-5c53-4cf1-9e67-3582a18570c4",
   "metadata": {},
   "outputs": [],
   "source": [
    "col_names = data.columns.values.tolist()"
   ]
  },
  {
   "cell_type": "code",
   "execution_count": 71,
   "id": "8db0d2ec-2567-40cd-92dc-b8da75404072",
   "metadata": {},
   "outputs": [
    {
     "name": "stdout",
     "output_type": "stream",
     "text": [
      "0    1501\n",
      "1    1143\n",
      "Name: lokasi, dtype: int64\n",
      "1    1347\n",
      "0    1297\n",
      "Name: status, dtype: int64\n",
      "1    2333\n",
      "0     311\n",
      "Name: tipe, dtype: int64\n",
      "7       101\n",
      "26       42\n",
      "8        40\n",
      "35       37\n",
      "16       35\n",
      "       ... \n",
      "2399      1\n",
      "2400      1\n",
      "1217      1\n",
      "1194      1\n",
      "2176      1\n",
      "Name: id_daftar_sekolah, Length: 1097, dtype: int64\n",
      "9     1753\n",
      "7      249\n",
      "10     192\n",
      "6      136\n",
      "3      123\n",
      "5       77\n",
      "4       69\n",
      "2       18\n",
      "8       17\n",
      "11      10\n",
      "Name: id_prodi_pilihan_1, dtype: int64\n",
      "9     892\n",
      "10    732\n",
      "1     578\n",
      "3     167\n",
      "4      99\n",
      "7      95\n",
      "8      35\n",
      "5      28\n",
      "11     13\n",
      "6       5\n",
      "Name: id_prodi_pilihan_2, dtype: int64\n",
      "0      1624\n",
      "10      268\n",
      "20      118\n",
      "100      88\n",
      "30       84\n",
      "60       83\n",
      "40       70\n",
      "80       67\n",
      "130      63\n",
      "150      48\n",
      "170      28\n",
      "90       26\n",
      "180      22\n",
      "120      17\n",
      "70       14\n",
      "160       8\n",
      "50        7\n",
      "190       4\n",
      "140       3\n",
      "110       2\n",
      "Name: nilai_tpa_verbal, dtype: int64\n",
      "0      1624\n",
      "10      113\n",
      "60      111\n",
      "20       86\n",
      "30       83\n",
      "90       78\n",
      "100      69\n",
      "80       62\n",
      "70       57\n",
      "50       54\n",
      "110      53\n",
      "130      47\n",
      "120      39\n",
      "40       38\n",
      "140      37\n",
      "160      30\n",
      "150      22\n",
      "180      20\n",
      "170      17\n",
      "190       4\n",
      "Name: nilai_tpa_spasial, dtype: int64\n",
      "0      1625\n",
      "90      133\n",
      "10      131\n",
      "60      123\n",
      "40      120\n",
      "20      112\n",
      "30      110\n",
      "120     107\n",
      "150      66\n",
      "70       37\n",
      "170      37\n",
      "50       13\n",
      "180       8\n",
      "80        8\n",
      "100       6\n",
      "190       3\n",
      "140       2\n",
      "110       2\n",
      "130       1\n",
      "Name: nilai_tpa_analogi, dtype: int64\n",
      "0      1624\n",
      "10      197\n",
      "40      110\n",
      "20      104\n",
      "70       84\n",
      "50       66\n",
      "30       60\n",
      "60       46\n",
      "180      39\n",
      "80       39\n",
      "120      35\n",
      "110      34\n",
      "100      34\n",
      "150      30\n",
      "130      29\n",
      "140      27\n",
      "160      26\n",
      "170      26\n",
      "90       25\n",
      "190       9\n",
      "Name: nilai_tpa_numerik, dtype: int64\n",
      "0.0      1523\n",
      "63.0       10\n",
      "81.0       10\n",
      "54.0        9\n",
      "28.0        9\n",
      "         ... \n",
      "421.0       1\n",
      "639.0       1\n",
      "224.0       1\n",
      "181.0       1\n",
      "96.0        1\n",
      "Name: avg_nilai_uan, Length: 117, dtype: int64\n",
      "0.0     175\n",
      "83.0     37\n",
      "81.0     35\n",
      "80.0     34\n",
      "77.0     29\n",
      "79.0     27\n",
      "82.0     27\n",
      "85.0     27\n",
      "78.0     26\n",
      "75.0     24\n",
      "76.0     20\n",
      "84.0     19\n",
      "88.0     14\n",
      "86.0     12\n",
      "87.0     11\n",
      "74.0     10\n",
      "73.0      9\n",
      "89.0      7\n",
      "70.0      5\n",
      "90.0      3\n",
      "91.0      3\n",
      "72.0      3\n",
      "92.0      3\n",
      "69.0      2\n",
      "71.0      2\n",
      "68.0      1\n",
      "65.0      1\n",
      "93.0      1\n",
      "61.0      1\n",
      "22.0      1\n",
      "47.0      1\n",
      "17.0      1\n",
      "94.0      1\n",
      "52.0      1\n",
      "Name: avg_nilai_raport, dtype: int64\n",
      "1    1675\n",
      "0     969\n",
      "Name: is_diterima, dtype: int64\n"
     ]
    }
   ],
   "source": [
    "for col in col_names:\n",
    "    \n",
    "    print(data[col].value_counts())  "
   ]
  },
  {
   "cell_type": "code",
   "execution_count": 72,
   "id": "a10218a9-61b9-4667-93e7-0906fa98ba6c",
   "metadata": {},
   "outputs": [
    {
     "data": {
      "text/plain": [
       "1    1675\n",
       "0     969\n",
       "Name: is_diterima, dtype: int64"
      ]
     },
     "execution_count": 72,
     "metadata": {},
     "output_type": "execute_result"
    }
   ],
   "source": [
    "data['is_diterima'].value_counts()"
   ]
  },
  {
   "cell_type": "code",
   "execution_count": 73,
   "id": "710ea6dc-46d4-415a-9125-2c1e59bc898f",
   "metadata": {},
   "outputs": [
    {
     "data": {
      "text/plain": [
       "lokasi                   0\n",
       "status                   0\n",
       "tipe                     0\n",
       "id_daftar_sekolah        0\n",
       "id_prodi_pilihan_1       0\n",
       "id_prodi_pilihan_2       0\n",
       "nilai_tpa_verbal         0\n",
       "nilai_tpa_spasial        0\n",
       "nilai_tpa_analogi        0\n",
       "nilai_tpa_numerik        0\n",
       "avg_nilai_uan          740\n",
       "avg_nilai_raport      2071\n",
       "is_diterima              0\n",
       "dtype: int64"
      ]
     },
     "execution_count": 73,
     "metadata": {},
     "output_type": "execute_result"
    }
   ],
   "source": [
    "data.isnull().sum()"
   ]
  },
  {
   "cell_type": "markdown",
   "id": "8a7b27f5-9caf-441b-9d1f-2d7ce9145429",
   "metadata": {
    "jp-MarkdownHeadingCollapsed": true,
    "tags": []
   },
   "source": [
    "### Analisis Data Jalur Prestasi Mentah"
   ]
  },
  {
   "cell_type": "code",
   "execution_count": 74,
   "id": "3d0259bb-5381-4fc0-ab1b-2f29d65a85fe",
   "metadata": {},
   "outputs": [
    {
     "name": "stdout",
     "output_type": "stream",
     "text": [
      "<class 'pandas.core.frame.DataFrame'>\n",
      "RangeIndex: 1624 entries, 0 to 1623\n",
      "Data columns (total 9 columns):\n",
      " #   Column              Non-Null Count  Dtype  \n",
      "---  ------              --------------  -----  \n",
      " 0   lokasi              1624 non-null   int64  \n",
      " 1   status              1624 non-null   int64  \n",
      " 2   tipe                1624 non-null   int64  \n",
      " 3   id_daftar_sekolah   1624 non-null   int64  \n",
      " 4   id_prodi_pilihan_1  1624 non-null   int64  \n",
      " 5   id_prodi_pilihan_2  1624 non-null   int64  \n",
      " 6   avg_nilai_uan       1228 non-null   float64\n",
      " 7   avg_nilai_raport    573 non-null    float64\n",
      " 8   is_diterima         1624 non-null   int64  \n",
      "dtypes: float64(2), int64(7)\n",
      "memory usage: 114.3 KB\n"
     ]
    }
   ],
   "source": [
    "jp = pd.read_csv('data_jp.csv')\n",
    "jp.info()"
   ]
  },
  {
   "cell_type": "code",
   "execution_count": 75,
   "id": "01ad05f5-9290-4d8d-ab0e-ed536038a0be",
   "metadata": {},
   "outputs": [
    {
     "name": "stdout",
     "output_type": "stream",
     "text": [
      "0    817\n",
      "1    807\n",
      "Name: lokasi, dtype: int64\n",
      "0    845\n",
      "1    779\n",
      "Name: status, dtype: int64\n",
      "1    1452\n",
      "0     172\n",
      "Name: tipe, dtype: int64\n",
      "7       81\n",
      "26      37\n",
      "8       33\n",
      "35      32\n",
      "20      28\n",
      "        ..\n",
      "1300     1\n",
      "479      1\n",
      "1247     1\n",
      "673      1\n",
      "2176     1\n",
      "Name: id_daftar_sekolah, Length: 748, dtype: int64\n",
      "9     1167\n",
      "10     124\n",
      "7      121\n",
      "3       55\n",
      "5       51\n",
      "4       41\n",
      "6       37\n",
      "8       15\n",
      "11       7\n",
      "2        6\n",
      "Name: id_prodi_pilihan_1, dtype: int64\n",
      "9     458\n",
      "1     446\n",
      "10    438\n",
      "3      94\n",
      "4      63\n",
      "7      59\n",
      "8      27\n",
      "5      22\n",
      "11     12\n",
      "6       5\n",
      "Name: id_prodi_pilihan_2, dtype: int64\n",
      "0.0      1028\n",
      "81.0        9\n",
      "63.0        7\n",
      "68.0        6\n",
      "83.0        6\n",
      "         ... \n",
      "187.0       1\n",
      "72.0        1\n",
      "42.0        1\n",
      "254.0       1\n",
      "45.0        1\n",
      "Name: avg_nilai_uan, Length: 83, dtype: int64\n",
      "0.0     175\n",
      "83.0     37\n",
      "81.0     35\n",
      "80.0     34\n",
      "77.0     29\n",
      "79.0     27\n",
      "82.0     27\n",
      "85.0     27\n",
      "78.0     26\n",
      "75.0     24\n",
      "76.0     20\n",
      "84.0     19\n",
      "88.0     14\n",
      "86.0     12\n",
      "87.0     11\n",
      "74.0     10\n",
      "73.0      9\n",
      "89.0      7\n",
      "70.0      5\n",
      "90.0      3\n",
      "91.0      3\n",
      "72.0      3\n",
      "92.0      3\n",
      "69.0      2\n",
      "71.0      2\n",
      "68.0      1\n",
      "65.0      1\n",
      "93.0      1\n",
      "61.0      1\n",
      "22.0      1\n",
      "47.0      1\n",
      "17.0      1\n",
      "94.0      1\n",
      "52.0      1\n",
      "Name: avg_nilai_raport, dtype: int64\n",
      "1    1122\n",
      "0     502\n",
      "Name: is_diterima, dtype: int64\n"
     ]
    }
   ],
   "source": [
    "col_names = jp.columns.values.tolist()\n",
    "for col in col_names:\n",
    "    \n",
    "    print(jp[col].value_counts()) "
   ]
  },
  {
   "cell_type": "code",
   "execution_count": 76,
   "id": "54cd7a6c-665e-4480-8eb6-662e39fc06d8",
   "metadata": {},
   "outputs": [
    {
     "data": {
      "text/plain": [
       "1    1122\n",
       "0     502\n",
       "Name: is_diterima, dtype: int64"
      ]
     },
     "execution_count": 76,
     "metadata": {},
     "output_type": "execute_result"
    }
   ],
   "source": [
    "jp['is_diterima'].value_counts()"
   ]
  },
  {
   "cell_type": "code",
   "execution_count": 77,
   "id": "e1ea2804-f6fc-4922-b8c8-fa86667434ed",
   "metadata": {},
   "outputs": [
    {
     "data": {
      "text/plain": [
       "lokasi                   0\n",
       "status                   0\n",
       "tipe                     0\n",
       "id_daftar_sekolah        0\n",
       "id_prodi_pilihan_1       0\n",
       "id_prodi_pilihan_2       0\n",
       "avg_nilai_uan          396\n",
       "avg_nilai_raport      1051\n",
       "is_diterima              0\n",
       "dtype: int64"
      ]
     },
     "execution_count": 77,
     "metadata": {},
     "output_type": "execute_result"
    }
   ],
   "source": [
    "jp.isnull().sum()"
   ]
  },
  {
   "cell_type": "markdown",
   "id": "72f3f843-8ade-425f-937d-487681e19465",
   "metadata": {
    "tags": []
   },
   "source": [
    "### Analisis Data Jalur Prestasi Proses Lanjut"
   ]
  },
  {
   "cell_type": "code",
   "execution_count": 42,
   "id": "66f6538b-d7de-49da-a7b5-ce393a219222",
   "metadata": {},
   "outputs": [],
   "source": [
    "jp = pd.read_csv('data_jp_legit.csv')"
   ]
  },
  {
   "cell_type": "code",
   "execution_count": 43,
   "id": "43ea42f2-e5e6-4abc-93d7-28beffd89ef3",
   "metadata": {},
   "outputs": [
    {
     "name": "stdout",
     "output_type": "stream",
     "text": [
      "<class 'pandas.core.frame.DataFrame'>\n",
      "RangeIndex: 797 entries, 0 to 796\n",
      "Data columns (total 9 columns):\n",
      " #   Column              Non-Null Count  Dtype  \n",
      "---  ------              --------------  -----  \n",
      " 0   lokasi              797 non-null    int64  \n",
      " 1   status              797 non-null    int64  \n",
      " 2   tipe                797 non-null    int64  \n",
      " 3   id_daftar_sekolah   797 non-null    int64  \n",
      " 4   id_prodi_pilihan_1  797 non-null    int64  \n",
      " 5   id_prodi_pilihan_2  797 non-null    int64  \n",
      " 6   avg_nilai_uan       797 non-null    float64\n",
      " 7   avg_nilai_raport    797 non-null    int64  \n",
      " 8   is_diterima         797 non-null    int64  \n",
      "dtypes: float64(1), int64(8)\n",
      "memory usage: 56.2 KB\n"
     ]
    }
   ],
   "source": [
    "jp.info()"
   ]
  },
  {
   "cell_type": "code",
   "execution_count": 44,
   "id": "b347c24f-07ae-4253-9069-8fbeaf8c0fb4",
   "metadata": {},
   "outputs": [
    {
     "name": "stdout",
     "output_type": "stream",
     "text": [
      "0    470\n",
      "1    327\n",
      "Name: lokasi, dtype: int64\n",
      "1    418\n",
      "0    379\n",
      "Name: status, dtype: int64\n",
      "1    724\n",
      "0     73\n",
      "Name: tipe, dtype: int64\n",
      "7       29\n",
      "343     15\n",
      "16      15\n",
      "8       14\n",
      "26      13\n",
      "        ..\n",
      "1543     1\n",
      "1541     1\n",
      "276      1\n",
      "1080     1\n",
      "663      1\n",
      "Name: id_daftar_sekolah, Length: 456, dtype: int64\n",
      "9     427\n",
      "7     113\n",
      "3      54\n",
      "10     52\n",
      "5      50\n",
      "4      40\n",
      "6      34\n",
      "8      15\n",
      "11      7\n",
      "2       5\n",
      "Name: id_prodi_pilihan_1, dtype: int64\n",
      "9     370\n",
      "10    152\n",
      "1     142\n",
      "3      47\n",
      "4      35\n",
      "8      18\n",
      "7      17\n",
      "5       8\n",
      "11      7\n",
      "6       1\n",
      "Name: id_prodi_pilihan_2, dtype: int64\n",
      "0.00      703\n",
      "81.00       8\n",
      "83.00       5\n",
      "85.00       5\n",
      "59.00       4\n",
      "80.00       4\n",
      "82.00       3\n",
      "87.00       3\n",
      "24.00       3\n",
      "74.00       2\n",
      "78.00       2\n",
      "86.00       2\n",
      "36.00       2\n",
      "54.00       2\n",
      "28.00       2\n",
      "68.00       2\n",
      "30.00       2\n",
      "90.00       2\n",
      "29.00       2\n",
      "88.00       2\n",
      "65.00       2\n",
      "53.00       2\n",
      "77.00       2\n",
      "50.00       1\n",
      "96.00       1\n",
      "57.00       1\n",
      "89.00       1\n",
      "69.75       1\n",
      "84.00       1\n",
      "49.00       1\n",
      "27.00       1\n",
      "70.00       1\n",
      "91.00       1\n",
      "94.00       1\n",
      "43.00       1\n",
      "56.25       1\n",
      "22.00       1\n",
      "61.50       1\n",
      "73.00       1\n",
      "46.75       1\n",
      "62.00       1\n",
      "42.00       1\n",
      "63.50       1\n",
      "105.25      1\n",
      "76.00       1\n",
      "46.00       1\n",
      "17.00       1\n",
      "23.00       1\n",
      "26.00       1\n",
      "64.00       1\n",
      "35.00       1\n",
      "57.75       1\n",
      "52.00       1\n",
      "45.00       1\n",
      "Name: avg_nilai_uan, dtype: int64\n",
      "0     399\n",
      "83     37\n",
      "81     35\n",
      "80     34\n",
      "77     29\n",
      "82     27\n",
      "79     27\n",
      "85     27\n",
      "78     26\n",
      "75     24\n",
      "76     20\n",
      "84     19\n",
      "88     14\n",
      "86     12\n",
      "87     11\n",
      "74     10\n",
      "73      9\n",
      "89      7\n",
      "70      5\n",
      "90      3\n",
      "91      3\n",
      "72      3\n",
      "92      3\n",
      "69      2\n",
      "71      2\n",
      "68      1\n",
      "65      1\n",
      "93      1\n",
      "61      1\n",
      "22      1\n",
      "47      1\n",
      "17      1\n",
      "94      1\n",
      "52      1\n",
      "Name: avg_nilai_raport, dtype: int64\n",
      "0    502\n",
      "1    295\n",
      "Name: is_diterima, dtype: int64\n"
     ]
    }
   ],
   "source": [
    "col_names = jp.columns.values.tolist()\n",
    "for col in col_names:\n",
    "    \n",
    "    print(jp[col].value_counts()) "
   ]
  },
  {
   "cell_type": "code",
   "execution_count": 45,
   "id": "f5d687e5-1210-4878-84e2-99d37df634d8",
   "metadata": {},
   "outputs": [
    {
     "data": {
      "text/plain": [
       "lokasi                0\n",
       "status                0\n",
       "tipe                  0\n",
       "id_daftar_sekolah     0\n",
       "id_prodi_pilihan_1    0\n",
       "id_prodi_pilihan_2    0\n",
       "avg_nilai_uan         0\n",
       "avg_nilai_raport      0\n",
       "is_diterima           0\n",
       "dtype: int64"
      ]
     },
     "execution_count": 45,
     "metadata": {},
     "output_type": "execute_result"
    }
   ],
   "source": [
    "jp.isnull().sum()"
   ]
  },
  {
   "cell_type": "code",
   "execution_count": 46,
   "id": "cc14732e-427d-4a55-9b09-dc7b3956082e",
   "metadata": {},
   "outputs": [
    {
     "data": {
      "image/png": "[encoded data removed]",
      "text/plain": [
       "<Figure size 432x288 with 1 Axes>"
      ]
     },
     "metadata": {
      "needs_background": "light"
     },
     "output_type": "display_data"
    }
   ],
   "source": [
    "ax1 = jp.loc[jp['is_diterima']==1, 'avg_nilai_uan'].plot(kind='hist', edgecolor='black')"
   ]
  },
  {
   "cell_type": "code",
   "execution_count": 47,
   "id": "7d987a30-5940-42d9-8026-78903eaec4a5",
   "metadata": {},
   "outputs": [
    {
     "data": {
      "image/png": "[encoded data removed]",
      "text/plain": [
       "<Figure size 432x288 with 1 Axes>"
      ]
     },
     "metadata": {
      "needs_background": "light"
     },
     "output_type": "display_data"
    }
   ],
   "source": [
    "ax1 = jp.loc[jp['is_diterima']==1, 'avg_nilai_raport'].plot(kind='hist', edgecolor='black')"
   ]
  },
  {
   "cell_type": "markdown",
   "id": "13b0f5e2-4f07-41db-80ed-e3af5692e637",
   "metadata": {
    "tags": []
   },
   "source": [
    "### Analisis Data Jalur Reguler"
   ]
  },
  {
   "cell_type": "code",
   "execution_count": 48,
   "id": "b11be668-caff-42c3-bca6-be0e3a1ed140",
   "metadata": {},
   "outputs": [],
   "source": [
    "njp = pd.read_csv('data_njp.csv')"
   ]
  },
  {
   "cell_type": "code",
   "execution_count": 49,
   "id": "24eb7aaf-2693-4c93-b8b5-28dfa9664e80",
   "metadata": {},
   "outputs": [
    {
     "name": "stdout",
     "output_type": "stream",
     "text": [
      "<class 'pandas.core.frame.DataFrame'>\n",
      "RangeIndex: 1020 entries, 0 to 1019\n",
      "Data columns (total 11 columns):\n",
      " #   Column              Non-Null Count  Dtype\n",
      "---  ------              --------------  -----\n",
      " 0   lokasi              1020 non-null   int64\n",
      " 1   status              1020 non-null   int64\n",
      " 2   tipe                1020 non-null   int64\n",
      " 3   id_daftar_sekolah   1020 non-null   int64\n",
      " 4   id_prodi_pilihan_1  1020 non-null   int64\n",
      " 5   id_prodi_pilihan_2  1020 non-null   int64\n",
      " 6   nilai_tpa_verbal    1020 non-null   int64\n",
      " 7   nilai_tpa_spasial   1020 non-null   int64\n",
      " 8   nilai_tpa_analogi   1020 non-null   int64\n",
      " 9   nilai_tpa_numerik   1020 non-null   int64\n",
      " 10  is_diterima         1020 non-null   int64\n",
      "dtypes: int64(11)\n",
      "memory usage: 87.8 KB\n"
     ]
    }
   ],
   "source": [
    "njp.info()"
   ]
  },
  {
   "cell_type": "code",
   "execution_count": 50,
   "id": "4c6b37e8-1c9c-4b6e-8749-572b359c9a26",
   "metadata": {},
   "outputs": [
    {
     "name": "stdout",
     "output_type": "stream",
     "text": [
      "0    684\n",
      "1    336\n",
      "Name: lokasi, dtype: int64\n",
      "1    568\n",
      "0    452\n",
      "Name: status, dtype: int64\n",
      "1    881\n",
      "0    139\n",
      "Name: tipe, dtype: int64\n",
      "7       20\n",
      "0       16\n",
      "2213    13\n",
      "144     11\n",
      "16      11\n",
      "        ..\n",
      "304      1\n",
      "2323     1\n",
      "2321     1\n",
      "737      1\n",
      "1991     1\n",
      "Name: id_daftar_sekolah, Length: 597, dtype: int64\n",
      "9     586\n",
      "7     128\n",
      "6      99\n",
      "10     68\n",
      "3      68\n",
      "4      28\n",
      "5      26\n",
      "2      12\n",
      "11      3\n",
      "8       2\n",
      "Name: id_prodi_pilihan_1, dtype: int64\n",
      "9     434\n",
      "10    294\n",
      "1     132\n",
      "3      73\n",
      "7      36\n",
      "4      36\n",
      "8       8\n",
      "5       6\n",
      "11      1\n",
      "Name: id_prodi_pilihan_2, dtype: int64\n",
      "10     268\n",
      "20     118\n",
      "100     88\n",
      "30      84\n",
      "60      83\n",
      "40      70\n",
      "80      67\n",
      "130     63\n",
      "150     48\n",
      "170     28\n",
      "90      26\n",
      "180     22\n",
      "120     17\n",
      "70      14\n",
      "160      8\n",
      "50       7\n",
      "190      4\n",
      "140      3\n",
      "110      2\n",
      "Name: nilai_tpa_verbal, dtype: int64\n",
      "10     113\n",
      "60     111\n",
      "20      86\n",
      "30      83\n",
      "90      78\n",
      "100     69\n",
      "80      62\n",
      "70      57\n",
      "50      54\n",
      "110     53\n",
      "130     47\n",
      "120     39\n",
      "40      38\n",
      "140     37\n",
      "160     30\n",
      "150     22\n",
      "180     20\n",
      "170     17\n",
      "190      4\n",
      "Name: nilai_tpa_spasial, dtype: int64\n",
      "90     133\n",
      "10     131\n",
      "60     123\n",
      "40     120\n",
      "20     112\n",
      "30     110\n",
      "120    107\n",
      "150     66\n",
      "70      37\n",
      "170     37\n",
      "50      13\n",
      "180      8\n",
      "80       8\n",
      "100      6\n",
      "190      3\n",
      "140      2\n",
      "110      2\n",
      "130      1\n",
      "0        1\n",
      "Name: nilai_tpa_analogi, dtype: int64\n",
      "10     197\n",
      "40     110\n",
      "20     104\n",
      "70      84\n",
      "50      66\n",
      "30      60\n",
      "60      46\n",
      "80      39\n",
      "180     39\n",
      "120     35\n",
      "100     34\n",
      "110     34\n",
      "150     30\n",
      "130     29\n",
      "140     27\n",
      "160     26\n",
      "170     26\n",
      "90      25\n",
      "190      9\n",
      "Name: nilai_tpa_numerik, dtype: int64\n",
      "1    553\n",
      "0    467\n",
      "Name: is_diterima, dtype: int64\n"
     ]
    }
   ],
   "source": [
    "col_names = njp.columns.values.tolist()\n",
    "for col in col_names:\n",
    "    \n",
    "    print(njp[col].value_counts()) "
   ]
  },
  {
   "cell_type": "code",
   "execution_count": 51,
   "id": "54c56960-7ed8-40ed-a570-34bb1e3c8d6e",
   "metadata": {},
   "outputs": [
    {
     "data": {
      "text/plain": [
       "1    553\n",
       "0    467\n",
       "Name: is_diterima, dtype: int64"
      ]
     },
     "execution_count": 51,
     "metadata": {},
     "output_type": "execute_result"
    }
   ],
   "source": [
    "njp['is_diterima'].value_counts()"
   ]
  },
  {
   "cell_type": "code",
   "execution_count": 52,
   "id": "96f80c06-5cf4-45a4-983c-9a746c95bac6",
   "metadata": {},
   "outputs": [
    {
     "data": {
      "text/plain": [
       "lokasi                0\n",
       "status                0\n",
       "tipe                  0\n",
       "id_daftar_sekolah     0\n",
       "id_prodi_pilihan_1    0\n",
       "id_prodi_pilihan_2    0\n",
       "nilai_tpa_verbal      0\n",
       "nilai_tpa_spasial     0\n",
       "nilai_tpa_analogi     0\n",
       "nilai_tpa_numerik     0\n",
       "is_diterima           0\n",
       "dtype: int64"
      ]
     },
     "execution_count": 52,
     "metadata": {},
     "output_type": "execute_result"
    }
   ],
   "source": [
    "njp.isnull().sum()"
   ]
  },
  {
   "cell_type": "code",
   "execution_count": 53,
   "id": "45834420-6e9a-4846-b3c4-446dbccbace0",
   "metadata": {},
   "outputs": [
    {
     "data": {
      "image/png": "[encoded data removed]",
      "text/plain": [
       "<Figure size 432x288 with 1 Axes>"
      ]
     },
     "metadata": {
      "needs_background": "light"
     },
     "output_type": "display_data"
    }
   ],
   "source": [
    "ax1 = njp.loc[njp['is_diterima']==1, 'nilai_tpa_verbal'].plot(kind='hist', edgecolor='black')"
   ]
  },
  {
   "cell_type": "code",
   "execution_count": 54,
   "id": "066671e3-d709-49f0-95cb-bf64dfcd57a0",
   "metadata": {},
   "outputs": [
    {
     "data": {
      "image/png": "[encoded data removed]",
      "text/plain": [
       "<Figure size 432x288 with 1 Axes>"
      ]
     },
     "metadata": {
      "needs_background": "light"
     },
     "output_type": "display_data"
    }
   ],
   "source": [
    "ax1 = njp.loc[njp['is_diterima']==1,\"nilai_tpa_spasial\"].plot(kind='hist', edgecolor='black')\n"
   ]
  },
  {
   "cell_type": "code",
   "execution_count": 55,
   "id": "caade88a-88b3-4f7e-ba41-38f244323f4c",
   "metadata": {},
   "outputs": [
    {
     "data": {
      "image/png": "[encoded data removed]",
      "text/plain": [
       "<Figure size 432x288 with 1 Axes>"
      ]
     },
     "metadata": {
      "needs_background": "light"
     },
     "output_type": "display_data"
    }
   ],
   "source": [
    "ax1 = njp.loc[njp['is_diterima']==1,\"nilai_tpa_analogi\"].plot(kind='hist', edgecolor='black')"
   ]
  },
  {
   "cell_type": "code",
   "execution_count": 56,
   "id": "e52b5ef8-941e-4078-9480-a3da6f216dbc",
   "metadata": {},
   "outputs": [
    {
     "data": {
      "image/png": "[encoded data removed]",
      "text/plain": [
       "<Figure size 432x288 with 1 Axes>"
      ]
     },
     "metadata": {
      "needs_background": "light"
     },
     "output_type": "display_data"
    }
   ],
   "source": [
    "ax1 = njp.loc[njp['is_diterima']==1,\"nilai_tpa_numerik\"].plot(kind='hist', edgecolor='black')"
   ]
  },
  {
   "cell_type": "code",
   "execution_count": null,
   "id": "d4821e90-5708-42c5-a6cd-0033c02a9aa6",
   "metadata": {},
   "outputs": [],
   "source": []
  }
 ],
 "metadata": {
  "kernelspec": {
   "display_name": "Python 3 (ipykernel)",
   "language": "python",
   "name": "python3"
  },
  "language_info": {
   "codemirror_mode": {
    "name": "ipython",
    "version": 3
   },
   "file_extension": ".py",
   "mimetype": "text/x-python",
   "name": "python",
   "nbconvert_exporter": "python",
   "pygments_lexer": "ipython3",
   "version": "3.9.12"
  }
 },
 "nbformat": 4,
 "nbformat_minor": 5
}
