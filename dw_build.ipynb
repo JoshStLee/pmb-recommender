{
 "cells": [
  {
   "cell_type": "code",
   "execution_count": 1,
   "id": "493f7f58-e377-4552-a28d-eb8755a7961e",
   "metadata": {},
   "outputs": [],
   "source": [
    "import os\n",
    "import sys\n",
    "import pandas as pd\n",
    "import numpy as np\n",
    "import nltk\n",
    "from IPython.display import display\n",
    "\n",
    "# grab the csvs\n",
    "pmb = pd.read_csv('fact_pmb.csv')\n",
    "opp = pd.read_csv('operasional_public_pendaftar.csv')\n",
    "schools = pd.read_csv('daftar_sekolah.csv')\n",
    "# start making the pd\n",
    "dataset = pmb.filter(items=['kode_pendaftar'])"
   ]
  },
  {
   "cell_type": "markdown",
   "id": "a1ad395f-5bc2-4fbd-ad08-58f40b3e16b8",
   "metadata": {},
   "source": [
    "## Highschool Background Filtering (DW FTI)\n",
    "\n",
    "kolum id_lokasi + kabupaten/kota + provinsi<br>\n",
    "not java: 1 - 153 & 258 - 491 <br>\n",
    "java : 154 - 257"
   ]
  },
  {
   "cell_type": "code",
   "execution_count": 2,
   "id": "4234e542-16a3-49a6-a36f-25c016f97073",
   "metadata": {},
   "outputs": [
    {
     "name": "stdout",
     "output_type": "stream",
     "text": [
      "      kode_pendaftar  id_lokasi  lokasi\n",
      "0             150002        201       1\n",
      "1             150013        213       1\n",
      "2             150015        215       1\n",
      "3             150017        215       1\n",
      "4             150018        213       1\n",
      "...              ...        ...     ...\n",
      "2639          210546        215       1\n",
      "2640          210566         81       0\n",
      "2641          210577        206       1\n",
      "2642          210766        430       0\n",
      "2643          210928        461       0\n",
      "\n",
      "[2644 rows x 3 columns]\n"
     ]
    }
   ],
   "source": [
    "# test grab location id\n",
    "dataset['id_lokasi'] = pmb.filter(items=['id_lokasi'])\n",
    "# make a boolean array to indicate if the number is as the criteria\n",
    "dataset['lokasi'] = np.where(dataset.id_lokasi.between(154,257),1,0)\n",
    "print(dataset)"
   ]
  },
  {
   "cell_type": "code",
   "execution_count": 3,
   "id": "7c01ab00-f843-4d93-a999-c1be084f8223",
   "metadata": {},
   "outputs": [
    {
     "name": "stdout",
     "output_type": "stream",
     "text": [
      "      kode_pendaftar  id_lokasi  lokasi  tipe_sekolah_asal  status\n",
      "0             150002        201       1                  2       0\n",
      "1             150013        213       1                  2       0\n",
      "2             150015        215       1                  2       0\n",
      "3             150017        215       1                  2       0\n",
      "4             150018        213       1                  2       0\n",
      "...              ...        ...     ...                ...     ...\n",
      "2639          210546        215       1                  1       1\n",
      "2640          210566         81       0                  1       1\n",
      "2641          210577        206       1                  1       1\n",
      "2642          210766        430       0                  1       1\n",
      "2643          210928        461       0                  1       1\n",
      "\n",
      "[2644 rows x 5 columns]\n"
     ]
    }
   ],
   "source": [
    "#test status sekolah (negeri/swasta)\n",
    "dataset['tipe_sekolah_asal'] = pmb.filter(items=['tipe_sekolah_asal'])\n",
    "dataset['status'] = np.where(dataset.tipe_sekolah_asal == 1,1,0)\n",
    "print(dataset)"
   ]
  },
  {
   "cell_type": "code",
   "execution_count": 4,
   "id": "64d77613-5a4c-4f6e-bb6d-1388efa3dcbf",
   "metadata": {},
   "outputs": [
    {
     "name": "stdout",
     "output_type": "stream",
     "text": [
      "      kode_pendaftar  id_lokasi  lokasi  tipe_sekolah_asal  status  \\\n",
      "0             150002        201       1                  2       0   \n",
      "1             150013        213       1                  2       0   \n",
      "2             150015        215       1                  2       0   \n",
      "3             150017        215       1                  2       0   \n",
      "4             150018        213       1                  2       0   \n",
      "...              ...        ...     ...                ...     ...   \n",
      "2639          210546        215       1                  1       1   \n",
      "2640          210566         81       0                  1       1   \n",
      "2641          210577        206       1                  1       1   \n",
      "2642          210766        430       0                  1       1   \n",
      "2643          210928        461       0                  1       1   \n",
      "\n",
      "     jurusan_sekolah  tipe  \n",
      "0                IPA     1  \n",
      "1                IPA     1  \n",
      "2                IPA     1  \n",
      "3                IPA     1  \n",
      "4                IPA     1  \n",
      "...              ...   ...  \n",
      "2639             IPA     1  \n",
      "2640             IPA     1  \n",
      "2641             IPA     1  \n",
      "2642             IPA     1  \n",
      "2643             IPS     1  \n",
      "\n",
      "[2644 rows x 7 columns]\n"
     ]
    }
   ],
   "source": [
    "# test tipe sekolah (SMA/SMK)\n",
    "dataset['jurusan_sekolah'] = pmb.filter(items=['jurusan_sekolah'])\n",
    "dataset['tipe'] = np.where(dataset.jurusan_sekolah == \"LAINNYA\",0,1)\n",
    "print(dataset)"
   ]
  },
  {
   "cell_type": "code",
   "execution_count": 5,
   "id": "e5aad75f-9d94-4e6f-beaf-e9fe65545c41",
   "metadata": {},
   "outputs": [
    {
     "name": "stdout",
     "output_type": "stream",
     "text": [
      "      kode_pendaftar  lokasi  status  tipe\n",
      "0             150002       1       0     1\n",
      "1             150013       1       0     1\n",
      "2             150015       1       0     1\n",
      "3             150017       1       0     1\n",
      "4             150018       1       0     1\n",
      "...              ...     ...     ...   ...\n",
      "2639          210546       1       1     1\n",
      "2640          210566       0       1     1\n",
      "2641          210577       1       1     1\n",
      "2642          210766       0       1     1\n",
      "2643          210928       0       1     1\n",
      "\n",
      "[2644 rows x 4 columns]\n"
     ]
    }
   ],
   "source": [
    "dataset.drop(['id_lokasi','tipe_sekolah_asal','jurusan_sekolah'], inplace=True, axis=1)\n",
    "print(dataset)"
   ]
  },
  {
   "cell_type": "markdown",
   "id": "21a94843-008e-4c02-8c5a-c3f40bec6004",
   "metadata": {},
   "source": [
    "## Adding Id of highschools\n",
    "objective: \n",
    "1. add \"sekolah_asal\" from opp to pmb\n",
    "2. add \"id_daftar_sekolah\" from schools to pmb"
   ]
  },
  {
   "cell_type": "code",
   "execution_count": 6,
   "id": "50885fed-2ac5-44b9-93b9-f6cadd08aed1",
   "metadata": {},
   "outputs": [
    {
     "name": "stdout",
     "output_type": "stream",
     "text": [
      "      kode_pendaftar\n",
      "0             150002\n",
      "1             150013\n",
      "2             150015\n",
      "3             150017\n",
      "4             150018\n",
      "...              ...\n",
      "2639          210546\n",
      "2640          210566\n",
      "2641          210577\n",
      "2642          210766\n",
      "2643          210928\n",
      "\n",
      "[2644 rows x 1 columns]\n",
      "       kode_pendaftar                      sekolah_asal\n",
      "0              150001          SMA NEGERI 1 MUARA BUNGO\n",
      "1              150002              SMA SEDES SAPIENTIAE\n",
      "2              150003       SMA NEGERI 1 BENGKULU UTARA\n",
      "3              150004              SMA SEDES SAPIENTIAE\n",
      "4              150005      SMA STELLA DUCE 2 YOGYAKARTA\n",
      "...               ...                               ...\n",
      "10551          211494  SMA FRATER DON BOSCO BANJARMASIN\n",
      "10552          211495         SMA KATOLIK SANTO ANDREAS\n",
      "10553          211505               SMK TELKOM MAKASSAR\n",
      "10554          211523              SMA NEGERI 1 MERAUKE\n",
      "10555          211524               SMA NEGERI 1 MIMIKA\n",
      "\n",
      "[10556 rows x 2 columns]\n",
      "      id_daftar_sekolah                  sekolah_asal\n",
      "0                     1      SMA NEGERI 1 MUARA BUNGO\n",
      "1                     2   SMA NEGERI 1 BENGKULU UTARA\n",
      "2                     3  SMA STELLA DUCE 2 YOGYAKARTA\n",
      "3                     4      SMA NEGERI 1 PANGANDARAN\n",
      "4                     5            SMA NEGERI 1 SERUI\n",
      "...                 ...                           ...\n",
      "2482               2483   SMA NEGERI 2 TAMBUN SELATAN\n",
      "2483               2484   SMK PANGUDI LUHUR TARCISIUS\n",
      "2484               2485      SMA K IPEKA GRAND WISATA\n",
      "2485               2486            SMA NEGERI 6 BOGOR\n",
      "2486               2487             SMK ANANDA BEKASI\n",
      "\n",
      "[2487 rows x 2 columns]\n"
     ]
    }
   ],
   "source": [
    "# grab the school names\n",
    "id_reg = dataset.filter(items=['kode_pendaftar'])\n",
    "print(id_reg)\n",
    "school_names = opp.filter(items=[\"kode_pendaftar\", \"sekolah_asal\"])\n",
    "school_id = schools.filter(items=[\"id_daftar_sekolah\",\"sekolah_asal\"])\n",
    "print(school_names)\n",
    "print(school_id)"
   ]
  },
  {
   "cell_type": "code",
   "execution_count": 7,
   "id": "bf6b6846-e45a-49d5-b017-4a76a75a4523",
   "metadata": {},
   "outputs": [
    {
     "name": "stdout",
     "output_type": "stream",
     "text": [
      "      kode_pendaftar                  sekolah_asal\n",
      "0             150002          SMA SEDES SAPIENTIAE\n",
      "1             150013  SMA STELLA DUCE 2 YOGYAKARTA\n",
      "2             150015       SMA BOPKRI 1 YOGYAKARTA\n",
      "3             150017          SMA KOLESE DE BRITTO\n",
      "4             150018          SMA KOLESE DE BRITTO\n",
      "...              ...                           ...\n",
      "2639          210546       SMA NEGERI 2 YOGYAKARTA\n",
      "2640          210566       SMA NEGERI 14 PEKANBARU\n",
      "2641          210577          SMA NEGERI 1 PARAKAN\n",
      "2642          210766           SMA NEGERI 1 MAMASA\n",
      "2643          210928           SMA NEGERI 1 WAMENA\n",
      "\n",
      "[2644 rows x 2 columns]\n",
      "      id_daftar_sekolah                  sekolah_asal  kode_pendaftar\n",
      "0                2181.0          SMA SEDES SAPIENTIAE          150002\n",
      "1                   3.0  SMA STELLA DUCE 2 YOGYAKARTA          150013\n",
      "2                   7.0       SMA BOPKRI 1 YOGYAKARTA          150015\n",
      "3                   8.0          SMA KOLESE DE BRITTO          150017\n",
      "4                   8.0          SMA KOLESE DE BRITTO          150018\n",
      "...                 ...                           ...             ...\n",
      "2639              424.0       SMA NEGERI 2 YOGYAKARTA          210546\n",
      "2640             1628.0       SMA NEGERI 14 PEKANBARU          210566\n",
      "2641              996.0          SMA NEGERI 1 PARAKAN          210577\n",
      "2642             2176.0           SMA NEGERI 1 MAMASA          210766\n",
      "2643              472.0           SMA NEGERI 1 WAMENA          210928\n",
      "\n",
      "[2644 rows x 3 columns]\n"
     ]
    }
   ],
   "source": [
    "output = pd.merge(id_reg, school_names, on=\"kode_pendaftar\", how=\"left\") \n",
    "output2 = pd.merge(school_id, output, on=\"sekolah_asal\", how=\"right\")\n",
    "print(output)\n",
    "print(output2)"
   ]
  },
  {
   "cell_type": "code",
   "execution_count": 11,
   "id": "b579b9fb-5016-4f5d-8473-a81f4897b807",
   "metadata": {},
   "outputs": [
    {
     "name": "stdout",
     "output_type": "stream",
     "text": [
      "      kode_pendaftar  lokasi  status  tipe  id_daftar_sekolah  \\\n",
      "0             150002       1       0     1               2181   \n",
      "1             150013       1       0     1                  3   \n",
      "2             150015       1       0     1                  7   \n",
      "3             150017       1       0     1                  8   \n",
      "4             150018       1       0     1                  8   \n",
      "...              ...     ...     ...   ...                ...   \n",
      "2639          210546       1       1     1                424   \n",
      "2640          210566       0       1     1               1628   \n",
      "2641          210577       1       1     1                996   \n",
      "2642          210766       0       1     1               2176   \n",
      "2643          210928       0       1     1                472   \n",
      "\n",
      "      id_prodi_pilihan_1  id_prodi_pilihan_2  nilai_tpa_verbal  \\\n",
      "0                      9                   1                 0   \n",
      "1                      9                   1                 0   \n",
      "2                      9                   1                 0   \n",
      "3                      9                   1                 0   \n",
      "4                      9                  10                 0   \n",
      "...                  ...                 ...               ...   \n",
      "2639                   9                   1                 0   \n",
      "2640                   9                   1                 0   \n",
      "2641                   9                   3                 0   \n",
      "2642                   9                   1                 0   \n",
      "2643                   9                  10                 0   \n",
      "\n",
      "      nilai_tpa_spasial  nilai_tpa_analogi  nilai_tpa_numerik  avg_nilai_uan  \\\n",
      "0                     0                  0                  0            NaN   \n",
      "1                     0                  0                  0            NaN   \n",
      "2                     0                  0                  0            NaN   \n",
      "3                     0                  0                  0            NaN   \n",
      "4                     0                  0                  0            NaN   \n",
      "...                 ...                ...                ...            ...   \n",
      "2639                  0                  0                  0            0.0   \n",
      "2640                  0                  0                  0            0.0   \n",
      "2641                  0                  0                  0            0.0   \n",
      "2642                  0                  0                  0            0.0   \n",
      "2643                  0                  0                  0            0.0   \n",
      "\n",
      "      avg_nilai_raport  is_lolos_seleksi  id_prodi_diterima  \n",
      "0                  NaN                 1                  9  \n",
      "1                  NaN                 1                  9  \n",
      "2                  NaN                 1                  9  \n",
      "3                  NaN                 1                  9  \n",
      "4                  NaN                 1                  9  \n",
      "...                ...               ...                ...  \n",
      "2639               0.0                 1                  9  \n",
      "2640               0.0                 1                  9  \n",
      "2641               0.0                 1                  9  \n",
      "2642               0.0                 1                  9  \n",
      "2643               0.0                 1                  9  \n",
      "\n",
      "[2644 rows x 15 columns]\n"
     ]
    }
   ],
   "source": [
    "dataset['id_daftar_sekolah'] = output2['id_daftar_sekolah']\n",
    "dataset['id_prodi_pilihan_1'] = pmb['id_prodi_pilihan_1']\n",
    "dataset['id_prodi_pilihan_2'] = pmb['id_prodi_pilihan_2']\n",
    "dataset['nilai_tpa_verbal'] = pmb['nilai_tpa_verbal']\n",
    "dataset['nilai_tpa_spasial'] = pmb['nilai_tpa_spasial']\n",
    "dataset['nilai_tpa_analogi'] = pmb['nilai_tpa_analogi']\n",
    "dataset['nilai_tpa_numerik'] = pmb['nilai_tpa_numerik']\n",
    "dataset['avg_nilai_uan'] = pmb['avg_nilai_uan'] \n",
    "dataset['avg_nilai_raport'] = pmb['avg_nilai_raport']\n",
    "dataset['is_lolos_seleksi'] = pmb['is_lolos_seleksi']\n",
    "dataset['id_prodi_diterima'] = pmb['id_prodi_diterima']\n",
    "dataset['id_daftar_sekolah']=dataset['id_daftar_sekolah'].fillna(0)\n",
    "dataset['id_daftar_sekolah']=dataset['id_daftar_sekolah'].astype(int)\n",
    "print(dataset)"
   ]
  },
  {
   "cell_type": "code",
   "execution_count": 18,
   "id": "78a9937d-88a9-40f5-b429-33dd192c8cb9",
   "metadata": {},
   "outputs": [],
   "source": [
    "dataset = dataset.drop('kode_pendaftar',axis=1)\n",
    "dataset.to_csv('dataset.csv', encoding='utf-8', index=False)"
   ]
  },
  {
   "cell_type": "code",
   "execution_count": 19,
   "id": "5757e300-e758-46b4-9132-fa33d0116d1e",
   "metadata": {},
   "outputs": [],
   "source": [
    "njp = dataset[dataset['nilai_tpa_verbal'] > 0]\n",
    "jp = dataset[dataset['nilai_tpa_verbal'] == 0]"
   ]
  },
  {
   "cell_type": "code",
   "execution_count": 20,
   "id": "3317df16-f3eb-41f4-ac6c-f0f44c0f7849",
   "metadata": {},
   "outputs": [],
   "source": [
    "njp = njp.drop(columns = ['avg_nilai_uan', 'avg_nilai_raport'])\n",
    "jp = jp.drop(columns = ['nilai_tpa_verbal','nilai_tpa_spasial','nilai_tpa_numerik','nilai_tpa_analogi'])"
   ]
  },
  {
   "cell_type": "code",
   "execution_count": 21,
   "id": "fa739a75-5f4f-4062-a163-aa4094033038",
   "metadata": {},
   "outputs": [],
   "source": [
    "jp.to_csv('data_jp.csv', encoding='utf-8', index=False)\n",
    "njp.to_csv('data_njp.csv', encoding='utf-8', index=False)"
   ]
  },
  {
   "cell_type": "code",
   "execution_count": null,
   "id": "88ba7f7e-c77c-4a38-b927-df34deca48e0",
   "metadata": {},
   "outputs": [],
   "source": []
  }
 ],
 "metadata": {
  "kernelspec": {
   "display_name": "Python 3 (ipykernel)",
   "language": "python",
   "name": "python3"
  },
  "language_info": {
   "codemirror_mode": {
    "name": "ipython",
    "version": 3
   },
   "file_extension": ".py",
   "mimetype": "text/x-python",
   "name": "python",
   "nbconvert_exporter": "python",
   "pygments_lexer": "ipython3",
   "version": "3.9.12"
  }
 },
 "nbformat": 4,
 "nbformat_minor": 5
}
